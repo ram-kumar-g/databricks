{
 "cells": [
  {
   "cell_type": "markdown",
   "metadata": {
    "application/vnd.databricks.v1+cell": {
     "cellMetadata": {
      "byteLimit": 2048000,
      "rowLimit": 10000
     },
     "inputWidgets": {},
     "nuid": "9d1f5d96-0846-4187-9422-8d98bd49fbd1",
     "showTitle": false,
     "tableResultSettingsMap": {},
     "title": ""
    }
   },
   "source": [
    "# Data Ingestion"
   ]
  },
  {
   "cell_type": "code",
   "execution_count": 0,
   "metadata": {
    "application/vnd.databricks.v1+cell": {
     "cellMetadata": {
      "byteLimit": 2048000,
      "rowLimit": 10000
     },
     "inputWidgets": {},
     "nuid": "c6ca9843-5a9a-4bc0-b971-46799a29a8c7",
     "showTitle": false,
     "tableResultSettingsMap": {},
     "title": ""
    }
   },
   "outputs": [],
   "source": [
    "\n",
    "proj_df = spark.read.csv(\"/Volumes/workspace/hrd/rawfiles/Project.csv\",header=True,inferSchema=True)\n",
    "loc_df = spark.read.csv(\"/Volumes/workspace/hrd/rawfiles/Location.csv\",header=True,inferSchema=True)\n",
    "grade_df = spark.read.csv(\"/Volumes/workspace/hrd/rawfiles/Grade.csv\",header=True,inferSchema=True)\n",
    "dept_df = spark.read.csv(\"/Volumes/workspace/hrd/rawfiles/Dept.csv\",header=True,inferSchema=True)\n",
    "ass_df=spark.read.csv(f'/Volumes/workspace/hrd/rawfiles/Associate_{datetime.now().strftime(\"%d%m%Y\")}.csv',header=True,inferSchema=True)"
   ]
  },
  {
   "cell_type": "markdown",
   "metadata": {
    "application/vnd.databricks.v1+cell": {
     "cellMetadata": {},
     "inputWidgets": {},
     "nuid": "e8c0c922-d093-4a01-9b58-1126c48e497b",
     "showTitle": false,
     "tableResultSettingsMap": {},
     "title": ""
    }
   },
   "source": [
    "## Get Current Month data"
   ]
  },
  {
   "cell_type": "code",
   "execution_count": 0,
   "metadata": {
    "application/vnd.databricks.v1+cell": {
     "cellMetadata": {
      "byteLimit": 2048000,
      "rowLimit": 10000
     },
     "inputWidgets": {},
     "nuid": "f579418a-aba6-4827-8781-41a531d5fb8f",
     "showTitle": false,
     "tableResultSettingsMap": {},
     "title": ""
    }
   },
   "outputs": [],
   "source": [
    "ass_df=ass_df.filter((ass_df['year'] == datetime.now().strftime(\"%Y\")) & (ass_df['month'] == datetime.now().strftime(\"%m\")))\n",
    "\n",
    "ass_df = ass_df.join(proj_df, ass_df.projectid == proj_df.projectid, 'inner').drop(proj_df.projectid).join(loc_df, ass_df.locationid == loc_df.locationid, 'inner').drop(loc_df.locationid).join(dept_df, ass_df.departmentcode == dept_df.deptcode, 'inner').drop(dept_df.deptcode).join(grade_df, ass_df.gradecode == grade_df.gradecode, 'inner').drop(grade_df.gradecode)\n",
    "\n",
    "display(ass_df.limit(10))\n",
    "# DBTITLE 1"
   ]
  }
 ],
 "metadata": {
  "application/vnd.databricks.v1+notebook": {
   "computePreferences": null,
   "dashboards": [],
   "environmentMetadata": {
    "base_environment": "",
    "environment_version": "2"
   },
   "inputWidgetPreferences": null,
   "language": "python",
   "notebookMetadata": {
    "pythonIndentUnit": 4
   },
   "notebookName": "Ingest Raw data",
   "widgets": {}
  },
  "language_info": {
   "name": "python"
  }
 },
 "nbformat": 4,
 "nbformat_minor": 0
}
