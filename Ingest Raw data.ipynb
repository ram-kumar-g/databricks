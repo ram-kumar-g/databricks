{
 "cells": [
  {
   "cell_type": "markdown",
   "metadata": {
    "application/vnd.databricks.v1+cell": {
     "cellMetadata": {},
     "inputWidgets": {},
     "nuid": "9d1f5d96-0846-4187-9422-8d98bd49fbd1",
     "showTitle": false,
     "tableResultSettingsMap": {},
     "title": ""
    }
   },
   "source": [
    "# Data Ingestion"
   ]
  },
  {
   "cell_type": "code",
   "execution_count": 0,
   "metadata": {
    "application/vnd.databricks.v1+cell": {
     "cellMetadata": {
      "byteLimit": 2048000,
      "rowLimit": 10000
     },
     "inputWidgets": {},
     "nuid": "c6ca9843-5a9a-4bc0-b971-46799a29a8c7",
     "showTitle": false,
     "tableResultSettingsMap": {},
     "title": ""
    }
   },
   "outputs": [],
   "source": [
    "from datetime import datetime\n",
    "proj_df = spark.read.csv(\"/Volumes/workspace/hrd/rawfiles/Project.csv\", header=True, inferSchema=True)\n",
    "loc_df = spark.read.csv(\"/Volumes/workspace/hrd/rawfiles/Location.csv\", header=True, inferSchema=True)\n",
    "grade_df = spark.read.csv(\"/Volumes/workspace/hrd/rawfiles/Grade.csv\", header=True, inferSchema=True)\n",
    "dept_df = spark.read.csv(\"/Volumes/workspace/hrd/rawfiles/Dept.csv\", header=True, inferSchema=True)\n",
    "ass_df = spark.read.csv('/Volumes/workspace/hrd/rawfiles/Associate*.csv', header=True, inferSchema=True)"
   ]
  },
  {
   "cell_type": "markdown",
   "metadata": {
    "application/vnd.databricks.v1+cell": {
     "cellMetadata": {},
     "inputWidgets": {},
     "nuid": "e8c0c922-d093-4a01-9b58-1126c48e497b",
     "showTitle": false,
     "tableResultSettingsMap": {},
     "title": ""
    }
   },
   "source": [
    "## Get Current Month data"
   ]
  },
  {
   "cell_type": "code",
   "execution_count": 0,
   "metadata": {
    "application/vnd.databricks.v1+cell": {
     "cellMetadata": {
      "byteLimit": 2048000,
      "rowLimit": 10000
     },
     "inputWidgets": {},
     "nuid": "674f7224-b214-493e-8980-5c996ef2d225",
     "showTitle": false,
     "tableResultSettingsMap": {},
     "title": ""
    }
   },
   "outputs": [],
   "source": [
    "\n",
    "from datetime import datetime\n",
    "ass_df=ass_df.filter((ass_df['year'] == datetime.now().strftime(\"%Y\")) & (ass_df['month'] == '06'))\n",
    "\n",
    "ass_df = ass_df.join(proj_df, ass_df.projectid == proj_df.projectid, 'inner').drop(proj_df.projectid).join(loc_df, ass_df.locationid == loc_df.locationid, 'inner').drop(loc_df.locationid).join(dept_df, ass_df.departmentcode == dept_df.deptcode, 'inner').drop(dept_df.deptcode).join(grade_df, ass_df.gradecode == grade_df.gradecode, 'inner').drop(grade_df.gradecode)"
   ]
  },
  {
   "cell_type": "code",
   "execution_count": 0,
   "metadata": {
    "application/vnd.databricks.v1+cell": {
     "cellMetadata": {
      "byteLimit": 2048000,
      "rowLimit": 10000
     },
     "inputWidgets": {},
     "nuid": "f579418a-aba6-4827-8781-41a531d5fb8f",
     "showTitle": false,
     "tableResultSettingsMap": {},
     "title": ""
    }
   },
   "outputs": [],
   "source": [
    "from pyspark.sql.functions import col, max as spark_max\n",
    "\n",
    "max_resignation_date = ass_df.filter(col(\"resignationdate\").isNotNull()).filter(col(\"resignationdate\") != 'NULL').agg(spark_max(\"resignationdate\")).collect()[0][0]"
   ]
  },
  {
   "cell_type": "code",
   "execution_count": 0,
   "metadata": {
    "application/vnd.databricks.v1+cell": {
     "cellMetadata": {
      "byteLimit": 2048000,
      "rowLimit": 10000
     },
     "inputWidgets": {},
     "nuid": "7f079a79-5a05-4684-9c30-fa257b22cc5e",
     "showTitle": false,
     "tableResultSettingsMap": {},
     "title": ""
    }
   },
   "outputs": [],
   "source": [
    "ass_df1 = ass_df.filter(col(\"resignationdate\") != 'NULL').filter(col(\"resignationdate\")>'2025-07-01' )"
   ]
  },
  {
   "cell_type": "code",
   "execution_count": 0,
   "metadata": {
    "application/vnd.databricks.v1+cell": {
     "cellMetadata": {
      "byteLimit": 2048000,
      "rowLimit": 10000
     },
     "inputWidgets": {},
     "nuid": "b767b932-725c-49e7-954d-92be9d79162c",
     "showTitle": false,
     "tableResultSettingsMap": {},
     "title": ""
    }
   },
   "outputs": [],
   "source": [
    "ass_df.write.mode(\"overwrite\").csv(\"/Volumes/workspace/hrd/processedfiles/Associate.csv\")"
   ]
  },
  {
   "cell_type": "code",
   "execution_count": 0,
   "metadata": {
    "application/vnd.databricks.v1+cell": {
     "cellMetadata": {
      "byteLimit": 2048000,
      "rowLimit": 10000
     },
     "inputWidgets": {},
     "nuid": "986da30f-1338-45b7-8d85-dd0fec033569",
     "showTitle": false,
     "tableResultSettingsMap": {},
     "title": ""
    }
   },
   "outputs": [],
   "source": [
    "display(ass_df1.limit(10))\n"
   ]
  }
 ],
 "metadata": {
  "application/vnd.databricks.v1+notebook": {
   "computePreferences": null,
   "dashboards": [],
   "environmentMetadata": {
    "base_environment": "",
    "environment_version": "2"
   },
   "inputWidgetPreferences": null,
   "language": "python",
   "notebookMetadata": {
    "mostRecentlyExecutedCommandWithImplicitDF": {
     "commandId": 6397247263307302,
     "dataframes": [
      "_sqldf"
     ]
    },
    "pythonIndentUnit": 4
   },
   "notebookName": "Ingest Raw data",
   "widgets": {}
  },
  "language_info": {
   "name": "python"
  }
 },
 "nbformat": 4,
 "nbformat_minor": 0
}
